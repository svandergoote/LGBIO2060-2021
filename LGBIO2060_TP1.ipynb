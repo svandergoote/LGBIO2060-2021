{
 "cells": [
  {
   "cell_type": "markdown",
   "id": "53044446",
   "metadata": {},
   "source": [
    "# LGBIO2060 Exercice session 1\n",
    "Statistical reminder \n",
    "In this first exercise session we will refresh your memory about the basis of statistics needed for the rest of the sessions.\n",
    "\\After this session you should be able to ...\n"
   ]
  },
  {
   "cell_type": "markdown",
   "id": "647e2160",
   "metadata": {},
   "source": [
    "## Imports and helper functions\n",
    "**Please execute the cell(s) below to initialize the notebook environment.**"
   ]
  },
  {
   "cell_type": "code",
   "execution_count": 1,
   "id": "69d47f08",
   "metadata": {},
   "outputs": [],
   "source": [
    "#Import the libraries \n",
    "import numpy as np #for the math stuff\n",
    "import matplotlib.pyplot as plt #for the plot handling\n",
    "from scipy.stats import norm"
   ]
  },
  {
   "cell_type": "code",
   "execution_count": null,
   "id": "819b70f9",
   "metadata": {},
   "outputs": [],
   "source": []
  }
 ],
 "metadata": {
  "kernelspec": {
   "display_name": "Python 3",
   "language": "python",
   "name": "python3"
  },
  "language_info": {
   "codemirror_mode": {
    "name": "ipython",
    "version": 3
   },
   "file_extension": ".py",
   "mimetype": "text/x-python",
   "name": "python",
   "nbconvert_exporter": "python",
   "pygments_lexer": "ipython3",
   "version": "3.8.8"
  }
 },
 "nbformat": 4,
 "nbformat_minor": 5
}
