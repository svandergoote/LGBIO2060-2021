{
  "nbformat": 4,
  "nbformat_minor": 0,
  "metadata": {
    "colab": {
      "name": "LGBIO2060_TP3_sol.ipynb",
      "provenance": [],
      "collapsed_sections": [],
      "toc_visible": true,
      "include_colab_link": true
    },
    "kernelspec": {
      "name": "python3",
      "display_name": "Python 3"
    },
    "language_info": {
      "name": "python"
    },
    "widgets": {
      "application/vnd.jupyter.widget-state+json": {
        "eb18a95d4ae141b18988b58263751aa0": {
          "model_module": "@jupyter-widgets/controls",
          "model_name": "VBoxModel",
          "model_module_version": "1.5.0",
          "state": {
            "_view_name": "VBoxView",
            "_dom_classes": [
              "widget-interact"
            ],
            "_model_name": "VBoxModel",
            "_view_module": "@jupyter-widgets/controls",
            "_model_module_version": "1.5.0",
            "_view_count": null,
            "_view_module_version": "1.5.0",
            "box_style": "",
            "layout": "IPY_MODEL_458063155bc74680b835122402e26e9f",
            "_model_module": "@jupyter-widgets/controls",
            "children": [
              "IPY_MODEL_3043dc7a546048e9a2c83d62ec810c0c",
              "IPY_MODEL_3501d6de7fef47d3b5dd485c81f00b53",
              "IPY_MODEL_8640996ffcdc43e88e3cc70bf4c9034c",
              "IPY_MODEL_2b8a03dee38a4e85b3d73778f246c9c2",
              "IPY_MODEL_3880345f4c1349ea90e502bd303acfd7"
            ]
          }
        },
        "458063155bc74680b835122402e26e9f": {
          "model_module": "@jupyter-widgets/base",
          "model_name": "LayoutModel",
          "model_module_version": "1.2.0",
          "state": {
            "_view_name": "LayoutView",
            "grid_template_rows": null,
            "right": null,
            "justify_content": null,
            "_view_module": "@jupyter-widgets/base",
            "overflow": null,
            "_model_module_version": "1.2.0",
            "_view_count": null,
            "flex_flow": null,
            "width": null,
            "min_width": null,
            "border": null,
            "align_items": null,
            "bottom": null,
            "_model_module": "@jupyter-widgets/base",
            "top": null,
            "grid_column": null,
            "overflow_y": null,
            "overflow_x": null,
            "grid_auto_flow": null,
            "grid_area": null,
            "grid_template_columns": null,
            "flex": null,
            "_model_name": "LayoutModel",
            "justify_items": null,
            "grid_row": null,
            "max_height": null,
            "align_content": null,
            "visibility": null,
            "align_self": null,
            "height": null,
            "min_height": null,
            "padding": null,
            "grid_auto_rows": null,
            "grid_gap": null,
            "max_width": null,
            "order": null,
            "_view_module_version": "1.2.0",
            "grid_template_areas": null,
            "object_position": null,
            "object_fit": null,
            "grid_auto_columns": null,
            "margin": null,
            "display": null,
            "left": null
          }
        },
        "3043dc7a546048e9a2c83d62ec810c0c": {
          "model_module": "@jupyter-widgets/controls",
          "model_name": "IntSliderModel",
          "model_module_version": "1.5.0",
          "state": {
            "_view_name": "IntSliderView",
            "style": "IPY_MODEL_bca8cbbd4e0740adb753af08c119e45f",
            "_dom_classes": [],
            "description": "mu_likelihood",
            "step": 1,
            "_model_name": "IntSliderModel",
            "orientation": "horizontal",
            "max": 9,
            "_view_module": "@jupyter-widgets/controls",
            "_model_module_version": "1.5.0",
            "value": 8,
            "_view_count": null,
            "disabled": false,
            "_view_module_version": "1.5.0",
            "min": -3,
            "continuous_update": true,
            "readout_format": "d",
            "description_tooltip": null,
            "readout": true,
            "_model_module": "@jupyter-widgets/controls",
            "layout": "IPY_MODEL_aa09429323a342e0b764bcea9ea315ac"
          }
        },
        "3501d6de7fef47d3b5dd485c81f00b53": {
          "model_module": "@jupyter-widgets/controls",
          "model_name": "FloatSliderModel",
          "model_module_version": "1.5.0",
          "state": {
            "_view_name": "FloatSliderView",
            "style": "IPY_MODEL_f7bfeea26953483eba292fbddfd2dbff",
            "_dom_classes": [],
            "description": "sigma_likelihood",
            "step": 0.1,
            "_model_name": "FloatSliderModel",
            "orientation": "horizontal",
            "max": 4.5,
            "_view_module": "@jupyter-widgets/controls",
            "_model_module_version": "1.5.0",
            "value": 3.6,
            "_view_count": null,
            "disabled": false,
            "_view_module_version": "1.5.0",
            "min": -1.5,
            "continuous_update": true,
            "readout_format": ".2f",
            "description_tooltip": null,
            "readout": true,
            "_model_module": "@jupyter-widgets/controls",
            "layout": "IPY_MODEL_94f719ab4bf944dca519186adf9859f1"
          }
        },
        "8640996ffcdc43e88e3cc70bf4c9034c": {
          "model_module": "@jupyter-widgets/controls",
          "model_name": "FloatSliderModel",
          "model_module_version": "1.5.0",
          "state": {
            "_view_name": "FloatSliderView",
            "style": "IPY_MODEL_c243138583284182b1c8a406d2c26eac",
            "_dom_classes": [],
            "description": "mu_prior:",
            "step": 0.5,
            "_model_name": "FloatSliderModel",
            "orientation": "horizontal",
            "max": 10,
            "_view_module": "@jupyter-widgets/controls",
            "_model_module_version": "1.5.0",
            "value": -1,
            "_view_count": null,
            "disabled": false,
            "_view_module_version": "1.5.0",
            "min": -10,
            "continuous_update": true,
            "readout_format": ".2f",
            "description_tooltip": null,
            "readout": true,
            "_model_module": "@jupyter-widgets/controls",
            "layout": "IPY_MODEL_abbe89beb4284df48a14409e39b55a8a"
          }
        },
        "2b8a03dee38a4e85b3d73778f246c9c2": {
          "model_module": "@jupyter-widgets/controls",
          "model_name": "FloatSliderModel",
          "model_module_version": "1.5.0",
          "state": {
            "_view_name": "FloatSliderView",
            "style": "IPY_MODEL_563e81bd87f94ac08270c2b3df7eaa97",
            "_dom_classes": [],
            "description": "sigma_prior:",
            "step": 0.5,
            "_model_name": "FloatSliderModel",
            "orientation": "horizontal",
            "max": 10,
            "_view_module": "@jupyter-widgets/controls",
            "_model_module_version": "1.5.0",
            "value": 1.5,
            "_view_count": null,
            "disabled": false,
            "_view_module_version": "1.5.0",
            "min": 0.5,
            "continuous_update": true,
            "readout_format": ".2f",
            "description_tooltip": null,
            "readout": true,
            "_model_module": "@jupyter-widgets/controls",
            "layout": "IPY_MODEL_d1e61939572941219825e0ef9a7432e1"
          }
        },
        "3880345f4c1349ea90e502bd303acfd7": {
          "model_module": "@jupyter-widgets/output",
          "model_name": "OutputModel",
          "model_module_version": "1.0.0",
          "state": {
            "_view_name": "OutputView",
            "msg_id": "",
            "_dom_classes": [],
            "_model_name": "OutputModel",
            "outputs": [
              {
                "output_type": "display_data",
                "data": {
                  "image/png": "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\n",
                  "text/plain": "<Figure size 432x288 with 1 Axes>"
                },
                "metadata": {
                  "needs_background": "light"
                }
              }
            ],
            "_view_module": "@jupyter-widgets/output",
            "_model_module_version": "1.0.0",
            "_view_count": null,
            "_view_module_version": "1.0.0",
            "layout": "IPY_MODEL_681135ebe79a40e4880961d23ea0f17a",
            "_model_module": "@jupyter-widgets/output"
          }
        },
        "bca8cbbd4e0740adb753af08c119e45f": {
          "model_module": "@jupyter-widgets/controls",
          "model_name": "SliderStyleModel",
          "model_module_version": "1.5.0",
          "state": {
            "_view_name": "StyleView",
            "handle_color": null,
            "_model_name": "SliderStyleModel",
            "description_width": "",
            "_view_module": "@jupyter-widgets/base",
            "_model_module_version": "1.5.0",
            "_view_count": null,
            "_view_module_version": "1.2.0",
            "_model_module": "@jupyter-widgets/controls"
          }
        },
        "aa09429323a342e0b764bcea9ea315ac": {
          "model_module": "@jupyter-widgets/base",
          "model_name": "LayoutModel",
          "model_module_version": "1.2.0",
          "state": {
            "_view_name": "LayoutView",
            "grid_template_rows": null,
            "right": null,
            "justify_content": null,
            "_view_module": "@jupyter-widgets/base",
            "overflow": null,
            "_model_module_version": "1.2.0",
            "_view_count": null,
            "flex_flow": null,
            "width": null,
            "min_width": null,
            "border": null,
            "align_items": null,
            "bottom": null,
            "_model_module": "@jupyter-widgets/base",
            "top": null,
            "grid_column": null,
            "overflow_y": null,
            "overflow_x": null,
            "grid_auto_flow": null,
            "grid_area": null,
            "grid_template_columns": null,
            "flex": null,
            "_model_name": "LayoutModel",
            "justify_items": null,
            "grid_row": null,
            "max_height": null,
            "align_content": null,
            "visibility": null,
            "align_self": null,
            "height": null,
            "min_height": null,
            "padding": null,
            "grid_auto_rows": null,
            "grid_gap": null,
            "max_width": null,
            "order": null,
            "_view_module_version": "1.2.0",
            "grid_template_areas": null,
            "object_position": null,
            "object_fit": null,
            "grid_auto_columns": null,
            "margin": null,
            "display": null,
            "left": null
          }
        },
        "f7bfeea26953483eba292fbddfd2dbff": {
          "model_module": "@jupyter-widgets/controls",
          "model_name": "SliderStyleModel",
          "model_module_version": "1.5.0",
          "state": {
            "_view_name": "StyleView",
            "handle_color": null,
            "_model_name": "SliderStyleModel",
            "description_width": "",
            "_view_module": "@jupyter-widgets/base",
            "_model_module_version": "1.5.0",
            "_view_count": null,
            "_view_module_version": "1.2.0",
            "_model_module": "@jupyter-widgets/controls"
          }
        },
        "94f719ab4bf944dca519186adf9859f1": {
          "model_module": "@jupyter-widgets/base",
          "model_name": "LayoutModel",
          "model_module_version": "1.2.0",
          "state": {
            "_view_name": "LayoutView",
            "grid_template_rows": null,
            "right": null,
            "justify_content": null,
            "_view_module": "@jupyter-widgets/base",
            "overflow": null,
            "_model_module_version": "1.2.0",
            "_view_count": null,
            "flex_flow": null,
            "width": null,
            "min_width": null,
            "border": null,
            "align_items": null,
            "bottom": null,
            "_model_module": "@jupyter-widgets/base",
            "top": null,
            "grid_column": null,
            "overflow_y": null,
            "overflow_x": null,
            "grid_auto_flow": null,
            "grid_area": null,
            "grid_template_columns": null,
            "flex": null,
            "_model_name": "LayoutModel",
            "justify_items": null,
            "grid_row": null,
            "max_height": null,
            "align_content": null,
            "visibility": null,
            "align_self": null,
            "height": null,
            "min_height": null,
            "padding": null,
            "grid_auto_rows": null,
            "grid_gap": null,
            "max_width": null,
            "order": null,
            "_view_module_version": "1.2.0",
            "grid_template_areas": null,
            "object_position": null,
            "object_fit": null,
            "grid_auto_columns": null,
            "margin": null,
            "display": null,
            "left": null
          }
        },
        "c243138583284182b1c8a406d2c26eac": {
          "model_module": "@jupyter-widgets/controls",
          "model_name": "SliderStyleModel",
          "model_module_version": "1.5.0",
          "state": {
            "_view_name": "StyleView",
            "handle_color": null,
            "_model_name": "SliderStyleModel",
            "description_width": "initial",
            "_view_module": "@jupyter-widgets/base",
            "_model_module_version": "1.5.0",
            "_view_count": null,
            "_view_module_version": "1.2.0",
            "_model_module": "@jupyter-widgets/controls"
          }
        },
        "abbe89beb4284df48a14409e39b55a8a": {
          "model_module": "@jupyter-widgets/base",
          "model_name": "LayoutModel",
          "model_module_version": "1.2.0",
          "state": {
            "_view_name": "LayoutView",
            "grid_template_rows": null,
            "right": null,
            "justify_content": null,
            "_view_module": "@jupyter-widgets/base",
            "overflow": null,
            "_model_module_version": "1.2.0",
            "_view_count": null,
            "flex_flow": null,
            "width": null,
            "min_width": null,
            "border": null,
            "align_items": null,
            "bottom": null,
            "_model_module": "@jupyter-widgets/base",
            "top": null,
            "grid_column": null,
            "overflow_y": null,
            "overflow_x": null,
            "grid_auto_flow": null,
            "grid_area": null,
            "grid_template_columns": null,
            "flex": null,
            "_model_name": "LayoutModel",
            "justify_items": null,
            "grid_row": null,
            "max_height": null,
            "align_content": null,
            "visibility": null,
            "align_self": null,
            "height": null,
            "min_height": null,
            "padding": null,
            "grid_auto_rows": null,
            "grid_gap": null,
            "max_width": null,
            "order": null,
            "_view_module_version": "1.2.0",
            "grid_template_areas": null,
            "object_position": null,
            "object_fit": null,
            "grid_auto_columns": null,
            "margin": null,
            "display": null,
            "left": null
          }
        },
        "563e81bd87f94ac08270c2b3df7eaa97": {
          "model_module": "@jupyter-widgets/controls",
          "model_name": "SliderStyleModel",
          "model_module_version": "1.5.0",
          "state": {
            "_view_name": "StyleView",
            "handle_color": null,
            "_model_name": "SliderStyleModel",
            "description_width": "initial",
            "_view_module": "@jupyter-widgets/base",
            "_model_module_version": "1.5.0",
            "_view_count": null,
            "_view_module_version": "1.2.0",
            "_model_module": "@jupyter-widgets/controls"
          }
        },
        "d1e61939572941219825e0ef9a7432e1": {
          "model_module": "@jupyter-widgets/base",
          "model_name": "LayoutModel",
          "model_module_version": "1.2.0",
          "state": {
            "_view_name": "LayoutView",
            "grid_template_rows": null,
            "right": null,
            "justify_content": null,
            "_view_module": "@jupyter-widgets/base",
            "overflow": null,
            "_model_module_version": "1.2.0",
            "_view_count": null,
            "flex_flow": null,
            "width": null,
            "min_width": null,
            "border": null,
            "align_items": null,
            "bottom": null,
            "_model_module": "@jupyter-widgets/base",
            "top": null,
            "grid_column": null,
            "overflow_y": null,
            "overflow_x": null,
            "grid_auto_flow": null,
            "grid_area": null,
            "grid_template_columns": null,
            "flex": null,
            "_model_name": "LayoutModel",
            "justify_items": null,
            "grid_row": null,
            "max_height": null,
            "align_content": null,
            "visibility": null,
            "align_self": null,
            "height": null,
            "min_height": null,
            "padding": null,
            "grid_auto_rows": null,
            "grid_gap": null,
            "max_width": null,
            "order": null,
            "_view_module_version": "1.2.0",
            "grid_template_areas": null,
            "object_position": null,
            "object_fit": null,
            "grid_auto_columns": null,
            "margin": null,
            "display": null,
            "left": null
          }
        },
        "681135ebe79a40e4880961d23ea0f17a": {
          "model_module": "@jupyter-widgets/base",
          "model_name": "LayoutModel",
          "model_module_version": "1.2.0",
          "state": {
            "_view_name": "LayoutView",
            "grid_template_rows": null,
            "right": null,
            "justify_content": null,
            "_view_module": "@jupyter-widgets/base",
            "overflow": null,
            "_model_module_version": "1.2.0",
            "_view_count": null,
            "flex_flow": null,
            "width": null,
            "min_width": null,
            "border": null,
            "align_items": null,
            "bottom": null,
            "_model_module": "@jupyter-widgets/base",
            "top": null,
            "grid_column": null,
            "overflow_y": null,
            "overflow_x": null,
            "grid_auto_flow": null,
            "grid_area": null,
            "grid_template_columns": null,
            "flex": null,
            "_model_name": "LayoutModel",
            "justify_items": null,
            "grid_row": null,
            "max_height": null,
            "align_content": null,
            "visibility": null,
            "align_self": null,
            "height": null,
            "min_height": null,
            "padding": null,
            "grid_auto_rows": null,
            "grid_gap": null,
            "max_width": null,
            "order": null,
            "_view_module_version": "1.2.0",
            "grid_template_areas": null,
            "object_position": null,
            "object_fit": null,
            "grid_auto_columns": null,
            "margin": null,
            "display": null,
            "left": null
          }
        }
      }
    }
  },
  "cells": [
    {
      "cell_type": "markdown",
      "metadata": {
        "id": "view-in-github",
        "colab_type": "text"
      },
      "source": [
        "<a href=\"https://colab.research.google.com/github/svandergoote/LGBIO2060-2021/blob/main/LGBIO2060_TP3_sol.ipynb\" target=\"_parent\"><img src=\"https://colab.research.google.com/assets/colab-badge.svg\" alt=\"Open In Colab\"/></a>"
      ]
    },
    {
      "cell_type": "markdown",
      "metadata": {
        "id": "p50qGxfb42PA"
      },
      "source": [
        "# LGBIO2060 Exercice session 3\n",
        "\n",
        "#Bayesian inference of a continuous hidden state \n",
        "\n",
        "__Authors:__ Simon Vandergooten, Clémence Vandamme, Florence Blondiaux & Antoine De Comité\n",
        "\n",
        "__Content inspired from__: Neuromatch Academy github.com/NeuromatchAcademy\n"
      ]
    },
    {
      "cell_type": "markdown",
      "metadata": {
        "id": "WzTP399FOxlc"
      },
      "source": [
        "##Introduction and context\n",
        "\n",
        "In this tutorial, we will extend the Bayes' theorem introduced last week to continuous hidden state. \n",
        "\n",
        "In the first part, we will describe how to compute a posterior from continuous distributions. Then, we will apply this to a real life example. \n",
        "\n"
      ]
    },
    {
      "cell_type": "code",
      "metadata": {
        "cellView": "form",
        "id": "PtqBzPnDwvix"
      },
      "source": [
        "# @title Import libraries\n",
        "import numpy as np\n",
        "import matplotlib.pyplot as plt"
      ],
      "execution_count": 6,
      "outputs": []
    },
    {
      "cell_type": "markdown",
      "metadata": {
        "id": "_TG3O_IP2vp_"
      },
      "source": [
        "##Mathematical formalism\n",
        "\n",
        "Along this tutorial, we will again be using Bayes' theorem. As a reminder, this theorem combines two sources of information into an optimal one. It combines the *likelihood*, which is a distribution that quantifies how likely the measurement is, given the real latent state; and the *prior* which quantifies the knowledge we have about the system, thanks to our prior experience. Bayes' rule defines the *posterior* distribution in the following manner: \n",
        "\n",
        "\\begin{eqnarray}\n",
        "\\text{Posterior} = \\dfrac{ \\text{Likelihood} \\times \\text{Prior}}{ \\text{Normalization constant}} \\tag{1}\n",
        "\\end{eqnarray}\n",
        "\n",
        "We consider now continuous distributions. When both the prior and likelihood are gaussian distributions, the posterior will be a gaussian distribution as well.\n",
        "\n",
        "In fact, the mean of the posterior distribution is simply a weighted average of the means of the prior and of the likelihood. The weight is determined by the confidence associated with each source of information. \n",
        "If one source of information is very noisy (of high variance), we will not have high confidence in it and grant it less weight. \n",
        "\n",
        "$$\n",
        "\\mu_{3} = a\\mu_{1} + (1-a)\\mu_{2} \\tag{2}\n",
        "$$\n",
        "$$\n",
        "a = \\frac{\\sigma_{1}^{-2}}{\\sigma_{1}^{-2} + \\sigma_{2}^{-2}} \\tag{3}\n",
        "$$\n",
        "\n",
        "Since we are combining two sources of information, we are **gaining** information. The amount of information carried by a gaussian is the inverse of the variance. Therefore, the information of the posterior is equal to the sum of the information of prior and the likelihood. Then, we have: \n",
        "\n",
        "$$\\sigma_{3}^{-2} = \\sigma_{1}^{-2} + \\sigma_{2}^{-2} \\tag{4}$$\n",
        "\n",
        "Therefore: \n",
        "\n",
        "$$\n",
        "\\begin{array}{rcl}\n",
        "\\text{Posterior} &\\propto& \\mathcal{N}(\\mu_{\\text{likelihood}},\\sigma_{\\text{likelihood}}^2) \\times \\mathcal{N}(\\mu_{\\text{prior}},\\sigma_{\\text{prior}}^2) \\\\\n",
        "&= & \\mathcal{N}\\left( \\dfrac{\\sigma^2_{\\text{likelihood}}\\mu_{\\text{prior}}+\\sigma^2_{\\text{prior}}\\mu_{\\text{likelihood}}}{\\sigma^2_{\\text{likelihood}}+\\sigma^2_{\\text{prior}}}, \\dfrac{\\sigma^2_{\\text{likelihood}}\\sigma^2_{\\text{prior}}}{\\sigma^2_{\\text{likelihood}}+\\sigma^2_{\\text{prior}}} \\right) \n",
        "\\end{array} \\tag{5}\n",
        "$$\n",
        " "
      ]
    },
    {
      "cell_type": "markdown",
      "metadata": {
        "id": "xK-Y21Q12vqC"
      },
      "source": [
        "### Exercise 1A: Finding the posterior computationally\n",
        "\n",
        "Implement the Bayes' theorem to compute the posterior probability distribution as a function of the prior and the likelihood\n",
        "\n",
        "Hints: \n",
        "\n",
        "* You can use the function `my_gaussian(x, mean, scale)` that you implementend in tutorial 1 to generate likelihood ($\\mu$=3, $\\sigma$=1.5) and prior ($\\mu=-1$ and $\\sigma$ =1.5). This function is provided for you in this notebook.\n",
        "* Compute the posterior **using pointwise multiplication** of the likelihood and prior. Don't forget to normalize so the posterior adds up to 1.\n",
        "\n",
        "\n",
        "\n"
      ]
    },
    {
      "cell_type": "code",
      "metadata": {
        "execution": {},
        "id": "iy6zLMkyMNgv",
        "cellView": "form"
      },
      "source": [
        "# @markdown Execute this cell to enable the function `my_gaussian`\n",
        "def my_gaussian(x_vector,mu,sigma):\n",
        "    \"\"\"\n",
        "  Author: Antoine de Comite \n",
        "  This function computes the gaussian distribution characterised by mu & sigma on the set x_vector\n",
        "  \n",
        "  Inputs : x_vector (numpy array) the set over which you want to compute the gaussian distribution\n",
        "           mu (double) mean value of the gaussian distribution\n",
        "           sigma (double) standard deviation of the gaussian distribution\n",
        "  Outputs: px (numpy array) is the gaussian distribution evaluated over x_vector\n",
        "  \"\"\"\n",
        "  \n",
        "    px = np.exp(- 1/2/sigma**2 * (mu - x_vector) ** 2)\n",
        "    px = px / px.sum()\n",
        "    return px"
      ],
      "execution_count": 7,
      "outputs": []
    },
    {
      "cell_type": "code",
      "metadata": {
        "id": "pEihJYRS2vqT",
        "colab": {
          "base_uri": "https://localhost:8080/",
          "height": 296
        },
        "outputId": "bcab942b-9017-4698-ffc8-867baf595e34"
      },
      "source": [
        "x_vector = np.arange(-10,10,0.1)\n",
        "likelihood = my_gaussian(x_vector, 3, 1.5)\n",
        "prior = my_gaussian(x_vector, -1, 1.5)\n",
        "def compute_posterior_pointwise(prior, likelihood):\n",
        "    '''\n",
        "    Author: Florence Blondiaux\n",
        "    Returns the normalized posterior probability based on the prior and the likelihood\n",
        "    Prior: The prior probabilities\n",
        "    Likelihood: The likelihood probabilities\n",
        "    '''\n",
        "    ##########################\n",
        "    ##### Your code here #####\n",
        "    ##########################\n",
        "    posterior = prior * likelihood\n",
        "    posterior /= posterior.sum()\n",
        "    return posterior\n",
        "\n",
        "posterior = compute_posterior_pointwise(prior, likelihood)\n",
        "# Run the lines below to test your code\n",
        "fig, ax = plt.subplots()\n",
        "ax.plot(x_vector,likelihood,'r',Linewidth=2.5,label='likelihood')\n",
        "ax.plot(x_vector,prior,'g',Linewidth=2.5,label='prior')\n",
        "ax.plot(x_vector,posterior,'b',Linewidth=2.5,label='posterior')\n",
        "ax.set_xlabel('x-position')\n",
        "ax.set_ylabel('probability')\n",
        "ax.legend()"
      ],
      "execution_count": 8,
      "outputs": [
        {
          "output_type": "execute_result",
          "data": {
            "text/plain": [
              "<matplotlib.legend.Legend at 0x7f2db1bc03d0>"
            ]
          },
          "metadata": {},
          "execution_count": 8
        },
        {
          "output_type": "display_data",
          "data": {
            "image/png": "[encoded data removed]",
            "text/plain": [
              "<Figure size 432x288 with 1 Axes>"
            ]
          },
          "metadata": {
            "needs_background": "light"
          }
        }
      ]
    },
    {
      "cell_type": "markdown",
      "metadata": {
        "id": "FLyG1j6f_KU1"
      },
      "source": [
        "\n",
        "\n",
        "*Example output:*\n",
        "\n",
        "<img alt='Solution hint' align='left' width=413 height=300 src=https://raw.githubusercontent.com/fblondiaux/LGBIO2060-2020/master/Solutions/TP2-Ex1.png>"
      ]
    },
    {
      "cell_type": "markdown",
      "metadata": {
        "id": "lHXZhfgFoDDN"
      },
      "source": [
        "###Relation between prior, likelihood and posterior\n",
        "**Execute the widget below to investigate the impact of prior and likelihood on the posterior distribution**"
      ]
    },
    {
      "cell_type": "code",
      "metadata": {
        "id": "XslhpIQu2vqb",
        "cellView": "form",
        "colab": {
          "base_uri": "https://localhost:8080/",
          "height": 396,
          "referenced_widgets": [
            "eb18a95d4ae141b18988b58263751aa0",
            "458063155bc74680b835122402e26e9f",
            "3043dc7a546048e9a2c83d62ec810c0c",
            "3501d6de7fef47d3b5dd485c81f00b53",
            "8640996ffcdc43e88e3cc70bf4c9034c",
            "2b8a03dee38a4e85b3d73778f246c9c2",
            "3880345f4c1349ea90e502bd303acfd7",
            "bca8cbbd4e0740adb753af08c119e45f",
            "aa09429323a342e0b764bcea9ea315ac",
            "f7bfeea26953483eba292fbddfd2dbff",
            "94f719ab4bf944dca519186adf9859f1",
            "c243138583284182b1c8a406d2c26eac",
            "abbe89beb4284df48a14409e39b55a8a",
            "563e81bd87f94ac08270c2b3df7eaa97",
            "d1e61939572941219825e0ef9a7432e1",
            "681135ebe79a40e4880961d23ea0f17a"
          ]
        },
        "outputId": "db696f35-cebb-46a4-9a51-573cc3454aef"
      },
      "source": [
        "#@title\n",
        "#@markdown Make sure you execute this cell to enable the widget!\n",
        "\n",
        "x = np.arange(-15, 15, 0.1)\n",
        "\n",
        "import ipywidgets as widgets\n",
        "\n",
        "def refresh(mu_likelihood=3, sigma_likelihood=1.5, mu_prior=-1, sigma_prior=1.5):\n",
        "    likelihood = my_gaussian(x, mu_likelihood, sigma_likelihood)\n",
        "    prior = my_gaussian(x, mu_prior, sigma_prior)\n",
        "    posterior = compute_posterior_pointwise(prior,likelihood)\n",
        "    plt.plot(x, likelihood, 'r')\n",
        "    plt.plot(x,prior,'g')\n",
        "    plt.plot(x, posterior, 'b')\n",
        "\n",
        "style = {'description_width': 'initial'}\n",
        "\n",
        "_ = widgets.interact(refresh,\n",
        "    mu_posterior=widgets.FloatSlider(value=3, min=-10, max=10, step=0.5, description=\"mu_likelihood:\", style=style),\n",
        "    sigma_posterior=widgets.FloatSlider(value=1.5, min=0.5, max=10, step=0.5, description=\"sigma_likelihood:\", style=style),\n",
        "    mu_prior=widgets.FloatSlider(value=-1, min=-10, max=10, step=0.5, description=\"mu_prior:\", style=style),\n",
        "    sigma_prior=widgets.FloatSlider(value=1.5, min=0.5, max=10, step=0.5, description=\"sigma_prior:\", style=style)\n",
        ")"
      ],
      "execution_count": null,
      "outputs": [
        {
          "output_type": "display_data",
          "data": {
            "application/vnd.jupyter.widget-view+json": {
              "model_id": "eb18a95d4ae141b18988b58263751aa0",
              "version_minor": 0,
              "version_major": 2
            },
            "text/plain": [
              "interactive(children=(IntSlider(value=3, description='mu_likelihood', max=9, min=-3), FloatSlider(value=1.5, d…"
            ]
          },
          "metadata": {}
        }
      ]
    },
    {
      "cell_type": "markdown",
      "metadata": {
        "id": "89wCtKoA2vqo"
      },
      "source": [
        "### Exercise 1B: Finding the posterior analytically\n",
        "In the previous exercise, you computed the posterior distribution regardless its parameters, using multiplication of the distribution. Instead, we can directly compute the  parameters of that Gaussian from the means and variances of the prior and likelihood with **Equation 5**.  \n",
        "\n",
        "In this exercise, we ask you to verify the expression of $\\mu_{\\text{posterior}}$.  To do so, we will keep our likelihood constant as an $\\mathcal{N}(3, 1.5)$ distribution, while considering priors with different means ranging from $\\mu=-10$ to $\\mu=10$.\n",
        "\n",
        "For each prior,\n",
        "\n",
        "* Compute the posterior distribution using the function you wrote in Exercise 1A. Next, find its mean. The mean of a probability distribution is $\\int_x p(x) dx$ or $\\sum_x x\\cdot p(x)$. \n",
        "* Compute the analytical posterior mean from likelihood and prior using the equation above.\n",
        "* Plot both estimates of the mean. \n",
        "\n",
        "Are the estimates of the posterior mean the same in both cases? \n",
        "\n",
        "\n"
      ]
    },
    {
      "cell_type": "code",
      "metadata": {
        "id": "Jzn6FYAC2vqr",
        "colab": {
          "base_uri": "https://localhost:8080/",
          "height": 279
        },
        "outputId": "5abd0f4d-bb30-4161-f652-8ebc7f461221"
      },
      "source": [
        "def compare_computational_analytical_means():\n",
        "\n",
        "    ##########################\n",
        "    ##### Your code here #####\n",
        "    ##########################\n",
        "    likelihood = my_gaussian(x_vector, 3, 1.5)\n",
        "    mu_priors = np.linspace(-10,10,21)\n",
        "    mus_analytical = []\n",
        "    mus_by_integration = []\n",
        "    for mu in mu_priors:\n",
        "      prior = my_gaussian(x_vector, mu, 1.5)\n",
        "      posterior = compute_posterior_pointwise(prior, likelihood)\n",
        "      mus_analytical.append((1.5**2 * (mu + 3))/(1.5**2 + 1.5**2))\n",
        "      mus_by_integration.append(np.sum(x_vector * posterior))\n",
        "    return mu_priors, mus_analytical, mus_by_integration\n",
        "\n",
        "mu_visuals, mu_analytical, mu_computational = compare_computational_analytical_means()\n",
        "\n",
        "\n",
        "#Run the lines below to test your code \n",
        "plt.plot(mu_visuals,mu_analytical,'r', label= 'Analytical')\n",
        "plt.plot(mu_visuals,mu_computational,'b--', label= 'Computational')\n",
        "plt.legend()\n",
        "plt.xlabel('Mean of the prior distribution')\n",
        "plt.ylabel('Mean of the posterior distribution')\n",
        "plt.show()"
      ],
      "execution_count": 10,
      "outputs": [
        {
          "output_type": "display_data",
          "data": {
            "image/png": "[encoded data removed]",
            "text/plain": [
              "<Figure size 432x288 with 1 Axes>"
            ]
          },
          "metadata": {
            "needs_background": "light"
          }
        }
      ]
    },
    {
      "cell_type": "markdown",
      "metadata": {
        "id": "-RrN1DJQkkra"
      },
      "source": [
        "\n",
        "*Example output:*\n",
        "\n",
        "<img alt='Solution hint' align='left' width=416 height=300 src=https://raw.githubusercontent.com/fblondiaux/LGBIO2060-2020/master/Solutions/TP2-Ex2.png>"
      ]
    },
    {
      "cell_type": "markdown",
      "metadata": {
        "id": "hOy4d5RW2vq3"
      },
      "source": [
        "## Application of Bayes' theorem"
      ]
    },
    {
      "cell_type": "markdown",
      "metadata": {
        "id": "4WZaeMwX2vq4"
      },
      "source": [
        "Consider you are playing the final of a very important tennis tournament against a very famous tennis player, Yannick Noah. You want to perfectly estimate where the ball he just hit will land. To do this you have two sources of information: \n",
        "\n",
        "  1. The visual information you gathered as he hit the ball (the angle of his wirst, shoulder, the angle of attack,...)\n",
        "  2. The information you gathered before the match about his game (his game stats, his current season,...)\n",
        "\n",
        "In this exercise, we will: \n",
        "  1. Generate the likelihood for multiple possible stimulus inputs\n",
        "  2. Generate a Gaussian prior for multiple possible stimulus inputs\n",
        "  3. Estimate our posterior as a function of the stimulus input\n",
        "  4. Estimate a participant response given the posterior\n",
        "  \n",
        "Typically, in an experimental setup, we know the participant response and the stimulus. We use then these information to recover the model used by the brain. "
      ]
    },
    {
      "cell_type": "markdown",
      "metadata": {
        "id": "nUVeMzBW2vq4"
      },
      "source": [
        "\n",
        "\n",
        "![Generative model](https://raw.githubusercontent.com/fblondiaux/LGBIO2060-2020/master/Solutions/TP2-GenerativeModel.png)\n"
      ]
    },
    {
      "cell_type": "markdown",
      "metadata": {
        "id": "Zgb5TmZ82vq5"
      },
      "source": [
        "\n",
        "### 1 -  Likelihood array\n",
        "  \n",
        "The first step is to create the likelihood distribution from the encoded stimulus. For the sake of visualization, we will create a likelihood $f(x) = p(\\tilde x|x)$ for each potential encoded stimulus $\\tilde x$. We will then be able to visualize the likelihood as a function of hypothesized true stimulus positions: $x$ on the x-axis and encoded position $\\tilde x$ on the y-axis.\n",
        "\n",
        "**Exercise 2.A**\n",
        "We assume that the encoding of the position is on average equal to the true position, with some gaussian noise. Then, using the equation for the `my_gaussian` and the values in `hypothetical_stim`:\n",
        "  \n",
        "* Create a Gaussian likelihood with mean varying from `hypothetical_stim`, keeping $\\sigma_{\\text{likelihood}}$ constant at 1.\n",
        "* Each likelihood will have a different mean and thus a different row-likelihood of your 2D array, such that you end up with a likelihood array made up of 1,000 row-Gaussians with different means. \n",
        "\n",
        "In other words, each entry of the output array is the probability  the probability that the brain encodes the position $\\tilde x_i$ given the true position $x_j$. "
      ]
    },
    {
      "cell_type": "code",
      "metadata": {
        "scrolled": true,
        "id": "sdk60vTN2vq6",
        "colab": {
          "base_uri": "https://localhost:8080/",
          "height": 300
        },
        "outputId": "7239d104-0851-4c8d-be5f-ad790b322ae9"
      },
      "source": [
        "x = np.arange(-10, 10, 0.1)\n",
        "hypothetical_stim = np.linspace(-8, 8, 1000)\n",
        "sigma_likelihood = 1\n",
        "likelihood_array = np.zeros((len(hypothetical_stim), len(x)))\n",
        "def compute_likelihood_array(x_points, stim_array, sigma=1.):\n",
        "    \"\"\"\n",
        "    This function computes the likelihood array of a given stimulus\n",
        "    \n",
        "    Inputs : x_points (numpy array) is the set of points on which one wants to evaluate the likelihood\n",
        "             stim_array (numpy array) contains the mean position of every possible stimulus\n",
        "             sigma (float) is the standard deviation of the gaussian distribution\n",
        "             \n",
        "    Outputs : likelihood array (numpy array) is a len(stim_array) x len(x_points) that contains the evaluation of \n",
        "              the likelihood for every possible stimulus on the the set x_points. Each line of this array corresponds\n",
        "              to a single simulus (stim_array[i]).\n",
        "    \"\"\"\n",
        "    #########################\n",
        "    ## your code goes here ##\n",
        "    #########################\n",
        "    for idx, stim in enumerate(stim_array):\n",
        "      likelihood_array[idx,:] = my_gaussian(x, stim, sigma_likelihood)\n",
        "    return likelihood_array \n",
        "\n",
        "\n",
        "\n",
        "# Run the lines below to test your code\n",
        "likelihood_array = compute_likelihood_array(x, hypothetical_stim)\n",
        "\n",
        "# Plot the results\n",
        "fig = plt.figure()\n",
        "ax = fig.add_subplot(111)\n",
        "colormap = ax.imshow(likelihood_array, extent=[-10, 10, 8, -8])\n",
        "cbar = plt.colorbar(colormap, ax=ax)\n",
        "cbar.set_label('probability')\n",
        "ax.invert_yaxis()\n",
        "ax.set_xlabel(\"$x$ : Potential true stimulus $x$\")\n",
        "ax.set_title(\"Likelihood as a function of $\\~x$ : $p(\\~x | x)$\")\n",
        "ax.set_ylabel(\"Possible brain encoding $\\~x$\")\n",
        "ax.set_aspect('auto')"
      ],
      "execution_count": null,
      "outputs": [
        {
          "output_type": "display_data",
          "data": {
            "image/png": "[encoded data removed]",
            "text/plain": [
              "<Figure size 432x288 with 2 Axes>"
            ]
          },
          "metadata": {
            "needs_background": "light"
          }
        }
      ]
    },
    {
      "cell_type": "markdown",
      "metadata": {
        "id": "XZnk0i9PktQZ"
      },
      "source": [
        "\n",
        "*Example output:*\n",
        "\n",
        "<img alt='Solution hint' align='left' width=573 height=416 src=https://raw.githubusercontent.com/fblondiaux/LGBIO2060-2020/master/Solutions/TP2-Likelihood.png>"
      ]
    },
    {
      "cell_type": "markdown",
      "metadata": {
        "id": "bRtb0rIu2vrB"
      },
      "source": [
        "**Question : How does the likelihood distribution for a given stimulus encoding looks like?**"
      ]
    },
    {
      "cell_type": "markdown",
      "metadata": {
        "id": "G9Pct7652vrD"
      },
      "source": [
        "\n",
        "### 2 - Mixture-of-Gaussians Prior\n",
        "\n",
        "The prior distribution can sometimes be more complex than a single gaussian distribution. In this exercise, we will implement a prior distribution which is a mixture of gaussian distributions. To go back to our tennis example, let us assume that your opponent sends the ball in the middle of the court 50% of the time and in the corner of the court 50% of the time. A mixture of Gaussian will combine these two information to obtain a prior distribution that integrate them both. \n",
        "We will control how the Gaussians are mixed by summing them together with a *mixing* or *weight* parameter $p_{centre}$, set to a value between 0 and 1, such that:\n",
        "\n",
        "\\begin{eqnarray}\n",
        "\\text{Mixture} = p_{\\text{centre}} \\times \\mathcal{N}\\left(\\mu_{\\text{centre}},\\sigma_{\\text{centre}}\\right) + \\left(1-p_{\\text{centre}}\\right) \\times \\mathcal{N}\\left(\\mu_{\\text{corner}},\\sigma_{\\text{corner}}\\right)\n",
        "\\end{eqnarray}\n",
        "\n",
        "where $p_{centre}$ denotes the probability that the ball lands at the centre of the court.\n",
        "\n",
        "\n",
        "For visualization reasons, we will create a prior array that has the same dimension as the likelihood array we created in the previous exercise. Since the prior does not change as a function of $\\tilde x$ it will be identical for each row of the prior 2D array. \n",
        "\n",
        "Using the equation for the Gaussian `my_gaussian`:\n",
        "* Generate a Gaussian *center* with mean 0 and standard deviation 0.5. \n",
        "* Generate another Gaussian *corner* with mean 3 and standard deviation 1\n",
        "* Combine the two Gaussians (*center* + *corner*) to make a new prior by mixing the two Gaussians with mixing parameter $p_{corner}$ = 0.50. \n",
        "* This will be the first row of your prior 2D array\n",
        "* Now repeat this for varying brain encodings $\\tilde x$. Since the prior does not depend on $\\tilde x$ you can just repeat the prior for each $\\tilde x$ (hint: use np.tile) that row prior to make an array of 1,000 (i.e. `hypothetical_stim.shape[0]`)  row-priors.\n"
      ]
    },
    {
      "cell_type": "code",
      "metadata": {
        "id": "v7BdXql52vrE",
        "colab": {
          "base_uri": "https://localhost:8080/",
          "height": 300
        },
        "outputId": "b90f537d-2934-4257-fe2f-df4b99289ccb"
      },
      "source": [
        "x = np.arange(-10, 10, 0.1)\n",
        "\n",
        "def calculate_prior_array(x_points, stim_array, p_center,\n",
        "                          mean_center=.0, sigma_center=.5,\n",
        "                          mean_corner=3, sigma_corner=1):\n",
        "    \"\"\"\n",
        "    This function computes the prior distribution based on the mixture of gaussians\n",
        "    \n",
        "    Inputs : x_points (numpy array) is the set of points on which we want to evaluate the prior\n",
        "             stim_array (numpy array) is the array of stimulus input\n",
        "             p_center (float) is the probability that the ball lands in center of the court\n",
        "             mean_center (float) mean value of the center ball landing site\n",
        "             mean_corner (float) mean value of the corner ball landing site \n",
        "             sigma_center (float) std deviation of the center ball landing site\n",
        "             sigma_corner (float) std deviation of the corner ball landing site \n",
        "             \n",
        "    Outputs : prior array (numpy array) contains the prior in a len(stim_array) x len(x_points) array\n",
        "        'indep' stands for independent\n",
        "    \"\"\"\n",
        "\n",
        "    ###########################\n",
        "    ### your code goes here ###\n",
        "    ###########################\n",
        "    center = my_gaussian(x_points, mean_center, sigma_center)\n",
        "    corner = my_gaussian(x_points, mean_corner, sigma_corner)\n",
        "    prior = p_center * center + (1 - p_center) * corner\n",
        "    prior /= np.sum(prior)\n",
        "    prior_array = np.tile(prior, len(stim_array)).reshape(len(stim_array), -1)\n",
        "    #using -1 as a dimension for the reshape let the function infer the dimension based on the other one you give\n",
        "    # For example if you have an array of size (20,) and you want to reshape it into 4 rows\n",
        "    # You can just use array.reshape(4, -1) and the function will compute how many columns based on the initial size\n",
        "    \n",
        "    return prior_array\n",
        "\n",
        "\n",
        "# Run the lines below to test your code\n",
        "\n",
        "\n",
        "\n",
        "p_center = .5\n",
        "hypothetical_stim = np.linspace(-8, 8, 1000)\n",
        "prior_array = calculate_prior_array(x, hypothetical_stim, p_center)\n",
        "\n",
        "fig = plt.figure()\n",
        "ax = fig.add_subplot(111)\n",
        "colormap = ax.imshow(prior_array, extent=[-10, 10, 8, -8])\n",
        "cbar = plt.colorbar(colormap, ax=ax)\n",
        "cbar.set_label('probability')\n",
        "ax.invert_yaxis()\n",
        "ax.set_xlabel(\"$x$ : Potential true stimulus $x$\")\n",
        "ax.set_title(\"Prior as a function of $\\~x$ : $p(\\~x|x)$\")\n",
        "ax.set_ylabel(\"Possible brain encoding $\\~x$\")\n",
        "ax.set_aspect('auto')"
      ],
      "execution_count": null,
      "outputs": [
        {
          "output_type": "display_data",
          "data": {
            "image/png": "[encoded data removed]",
            "text/plain": [
              "<Figure size 432x288 with 2 Axes>"
            ]
          },
          "metadata": {
            "needs_background": "light"
          }
        }
      ]
    },
    {
      "cell_type": "markdown",
      "metadata": {
        "id": "T3h4Me3aKUIE"
      },
      "source": [
        "\n",
        "*Example output:*\n",
        "\n",
        "<img alt='Solution hint' align='left' width=573 height=416 src=https://raw.githubusercontent.com/fblondiaux/LGBIO2060-2020/master/Solutions/TP2-Prior.png>"
      ]
    },
    {
      "cell_type": "markdown",
      "metadata": {
        "id": "lsnJSNVa2vrO"
      },
      "source": [
        "---\n",
        "### 3 - Bayes Theorem with Complex Posteriors"
      ]
    },
    {
      "cell_type": "markdown",
      "metadata": {
        "id": "l5CYsWyMUFzF"
      },
      "source": [
        "We now want to compute the posterior distribution using Bayes' theorem. Since we have already created a likelihood and a prior distributions for each brain encoded position $\\tilde x$, all we need to do is to multiply them row-wise. That is, each row of the posterior array will be the posterior distribution resulting from the multiplication of the prior and likelihood distributions of the same equivalent row.\n",
        "\n",
        "Mathematically:\n",
        "$$\n",
        "\\begin{eqnarray}\n",
        "    Posterior\\left[i, :\\right] \\propto Likelihood\\left[i, :\\right] \\odot Prior\\left[i, :\\right]\n",
        "\\end{eqnarray}\n",
        "$$\n",
        "where $\\odot$ represents the [Hadamard Product](https://en.wikipedia.org/wiki/Hadamard_product_(matrices)) (i.e., elementwise multiplication) of the corresponding prior and likelihood row vectors `i` from each matrix.\n",
        "\n",
        "Follow these steps to build the posterior as a function of the brain encoded stimulus $\\tilde x$:\n",
        "* For each row of the prior and likelihood (i.e. each possible brain encoding $\\tilde x$), fill in the posterior matrix so that every row of the posterior array represents the posterior density for a different brain encode  $\\tilde x$.\n",
        "\n",
        "**Try to implement a vectorial operation to compute the posterior**"
      ]
    },
    {
      "cell_type": "code",
      "metadata": {
        "id": "YRneAULr2vrS",
        "colab": {
          "base_uri": "https://localhost:8080/",
          "height": 302
        },
        "outputId": "335febab-3b2c-4c62-8384-39318509b9ab"
      },
      "source": [
        "def calculate_posterior_array(prior_array, likelihood_array):\n",
        "    \"\"\"\n",
        "    This function computes the posterior distribution from the prior & the likelihood\n",
        "    \n",
        "    Inputs : prior_array (numpy array) is the prior distribution\n",
        "             likelihood_array (numpy array) is the likelihood distribution\n",
        "             For both these arrays, each line correspond to a different input stimulus\n",
        "    Outputs : posterior_array (numpy array) that contains the posterior distribution for the different\n",
        "              input stimulus (each line corresponds to a different input)\n",
        "    \"\"\"\n",
        "\n",
        "    ###########################\n",
        "    ### your code goes here ###\n",
        "    ###########################\n",
        "    posterior_array = prior_array * likelihood_array\n",
        "    posterior_array /= posterior_array.sum(axis=1, keepdims=True)  # normalize each row separately\n",
        "    return posterior_array\n",
        "    \n",
        "#Run the lines below to test your code \n",
        "posterior_array = calculate_posterior_array(prior_array, likelihood_array)\n",
        "fig = plt.figure()\n",
        "ax = fig.add_subplot(111)\n",
        "colormap = ax.imshow(posterior_array, extent=[-10, 10, 8, -8])\n",
        "cbar = plt.colorbar(colormap, ax=ax)\n",
        "cbar.set_label('probability')\n",
        "ax.invert_yaxis()\n",
        "ax.set_ylabel('Brain encoded Stimulus $\\~x$')\n",
        "ax.set_title('Posterior as a fcn of $\\~x$ : $p(x | \\~x)$')\n",
        "ax.set_xlabel('Hypothesized Position $x$')\n",
        "ax.set_aspect('auto')        "
      ],
      "execution_count": null,
      "outputs": [
        {
          "output_type": "display_data",
          "data": {
            "image/png": "[encoded data removed]",
            "text/plain": [
              "<Figure size 432x288 with 2 Axes>"
            ]
          },
          "metadata": {
            "needs_background": "light"
          }
        }
      ]
    },
    {
      "cell_type": "markdown",
      "metadata": {
        "id": "w8IHJ-8XKYtB"
      },
      "source": [
        "\n",
        "*Example output:*\n",
        "\n",
        "<img alt='Solution hint' align='left' width=573 height=416 src=https://raw.githubusercontent.com/fblondiaux/LGBIO2060-2020/master/Solutions/TP2-Posterior.png>"
      ]
    },
    {
      "cell_type": "markdown",
      "metadata": {
        "id": "t8PirivP2vrY"
      },
      "source": [
        "---\n",
        "### 4 - Estimating the position $\\hat x$\n"
      ]
    },
    {
      "cell_type": "markdown",
      "metadata": {
        "id": "Lzw-1nq02vrZ"
      },
      "source": [
        "Now that we have a posterior distribution (for each possible brain encoding $\\tilde x$) that represents the brain's estimated ball position: $p(x|\\tilde x)$, we want to make an estimate (response) of the ball location $\\hat x$ using the posterior distribution. This would represent the subject's estimate if their (for us as experimentalist unobservable) brain encoding took on each possible value. \n",
        "\n",
        "This effectively encodes the *decision* that a participant would make for a given brain encoding $\\tilde x$. In this exercise, we make the assumption that participants take the mean of the posterior (decision rule) as a response estimate for the ball location (use the function `moments_myfunc()` provided to calculate the mean of the posterior).\n",
        "\n",
        "Using this knowledge, we will now represent $\\hat x$ as a function of the encoded stimulus $\\tilde x$. This will result in a 2D binary decision array. To do so, we will scan the posterior matrix (i.e. row-wise), and set the array cell value to 1 at the mean of the row-wise posterior.\n",
        "\n",
        "**Suggestions**\n",
        "* For each brain encoding $\\tilde x$ (row of the posterior array), calculate the mean of the posterior, and set the corresponding cell of the binary decision array to 1. (e.g., if the mean of the posterior is at position 0, then set the cell with x_column == 0 to 1)."
      ]
    },
    {
      "cell_type": "code",
      "metadata": {
        "id": "J-RE1MNs2vra",
        "colab": {
          "base_uri": "https://localhost:8080/",
          "height": 302
        },
        "outputId": "63b68d12-1e55-4aff-a654-d37f441b7c2f"
      },
      "source": [
        "def calculate_binary_decision_array(x_points, posterior_array):\n",
        "    \"\"\"\n",
        "    This function computes the decision taken by the participants for every potential decision input\n",
        "    \n",
        "    Inputs : x_points (numpy array) is the set of points on which we evaluated the posterior\n",
        "             posterior_array (numpy array) is the posterior distribution\n",
        "             \n",
        "    Outputs : binary_decision_array (numpy array) that contains the decision taken for every potential input stimulus\n",
        "    \"\"\"\n",
        "\n",
        "    binary_decision_array = np.zeros_like(posterior_array)\n",
        "    ###########################\n",
        "    ### your code goes here ###\n",
        "    ###########################\n",
        "    for i in range(len(posterior_array)):\n",
        "        # calculate mean of the posterior \n",
        "        mean = np.sum(x_points * posterior_array[i])\n",
        "        # find the postion of mean in x_points (closest position)\n",
        "        idx = np.argmin(np.abs(x_points - mean))\n",
        "        binary_decision_array[i, idx] = 1\n",
        "\n",
        "    return binary_decision_array\n",
        "\n",
        "    \n",
        "#Run the lines below to test your code\n",
        "binary_decision_array = calculate_binary_decision_array(x, posterior_array)\n",
        "\n",
        "fig = plt.figure()\n",
        "ax = fig.add_subplot(111)\n",
        "colormap = ax.imshow(binary_decision_array, extent=[-10, 10, 8, -8])\n",
        "cbar = plt.colorbar(colormap, ax=ax)\n",
        "cbar.set_label('probability')\n",
        "ax.invert_yaxis()\n",
        "ax.set_ylabel('Brain encoded Stimulus $\\~x$')\n",
        "ax.set_title('Sample Binary Decision Array')\n",
        "ax.set_xlabel('Chosen position $\\hat x$')\n",
        "ax.set_aspect('auto')\n"
      ],
      "execution_count": null,
      "outputs": [
        {
          "output_type": "display_data",
          "data": {
            "image/png": "[encoded data removed]",
            "text/plain": [
              "<Figure size 432x288 with 2 Axes>"
            ]
          },
          "metadata": {
            "needs_background": "light"
          }
        }
      ]
    },
    {
      "cell_type": "markdown",
      "metadata": {
        "id": "MxdP4th3LR6R"
      },
      "source": [
        "\n",
        "*Example output:*\n",
        "\n",
        "<img alt='Solution hint' align='left' width=573 height=416 src=https://raw.githubusercontent.com/fblondiaux/LGBIO2060-2020/master/Solutions/TP2-Decision.png>"
      ]
    },
    {
      "cell_type": "markdown",
      "metadata": {
        "id": "G1suFysH15Dh"
      },
      "source": [
        "In real life experiment, we typically have the response and the stimulus. With the schema above, we can therefore recover the brain encoding given the subject response. "
      ]
    }
  ]
}