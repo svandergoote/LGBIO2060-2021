{
  "nbformat": 4,
  "nbformat_minor": 0,
  "metadata": {
    "colab": {
      "name": "LGBIO2060_Projet_1.ipynb",
      "provenance": [],
      "authorship_tag": "ABX9TyMj1L+Qd8q5q1PLyQNDWU67"
    },
    "kernelspec": {
      "name": "python3",
      "display_name": "Python 3"
    },
    "language_info": {
      "name": "python"
    }
  },
  "cells": [
    {
      "cell_type": "markdown",
      "metadata": {
        "id": "6sKp_06mJci2"
      },
      "source": [
        "#Projet 1 : Bayesian integration in force estimation\n",
        "Authors : Simon Vandergooten and Clémence Vandamme.\n",
        "\n",
        "In this first project you will have the opportunity to put in practice what you learned during the exercice sessions. More precisely,  you will see how the bayesian model can be used in the specific case of force estimation.\n",
        "\n",
        "Reminder:\n",
        "\n",
        "$$Bayes : Posterior \\propto prior * likelihood$$\n",
        "\n",
        "Guidelines : \n",
        "\n",
        "1) Read the paper \"*Bayesian integration in force estimation*\" by Körding, available on Moodle in the section Project.\n",
        "\n",
        "2) Download the datasets **F_true** and **F_est** avalaible on Moodle and store them in the folder of your choice.\n",
        "\n",
        "About the data: \n",
        "* We simulated the data `F_true` and `F_estimated` for you. As in the paper `F_true` is drawn from two gaussian distributions that differ in their variance. Out of the 11 subjects, the first six experienced the wide distribution for the first two days and then the narrow distribution during day 3. It is the opposite for the last 5 subjects.\n",
        "\n",
        "* In contrast to the paper, `F_estimated` is not computed from the positional error but is artifically simulated.\n",
        "\n",
        "* The data are stored in the following way :\n",
        "\n",
        "A dictionary `Dict` is used to store the values of `F_true` and `F_est` for each subject. For example, you can access the values of the estimated force for the second subject with `Dict['Sujet 2']['F_est']` and `Dict['Sujet 2']['F_true']` for the true force.\n",
        "\n",
        "This will return you a np.array of size (3, 1400) where each line correspond to a day and the rows are composed of the blocks of trials placed consecutively.\n",
        "\n",
        "3) Run the cells of **Section 1** to import the datasets in Colab.\n",
        "\n",
        "4) Try to reproduce the figures 2. B,C and D (the first one about the slope)"
      ]
    },
    {
      "cell_type": "markdown",
      "metadata": {
        "id": "YBJQZ06smKbI"
      },
      "source": [
        "#Section 1: Import datasets \n"
      ]
    },
    {
      "cell_type": "code",
      "metadata": {
        "id": "77MYO80PNPpd"
      },
      "source": [
        "#import libraries\n",
        "import numpy as np\n",
        "import pandas as pd \n",
        "import io"
      ],
      "execution_count": 1,
      "outputs": []
    },
    {
      "cell_type": "code",
      "metadata": {
        "id": "rGFp8hclkEfM",
        "cellView": "form"
      },
      "source": [
        "# @title Run then select the files F_true.csv and F_est.csv on your computer\n",
        "from google.colab import files\n",
        "uploaded = files.upload()"
      ],
      "execution_count": null,
      "outputs": []
    },
    {
      "cell_type": "code",
      "metadata": {
        "id": "fRAzGeJyjNDF",
        "cellView": "form"
      },
      "source": [
        "# @title Run to access and store the datasets\n",
        "F_true = pd.read_csv(io.BytesIO(uploaded['F_true.csv'])).to_numpy()[:,1:]\n",
        "F_est = pd.read_csv(io.BytesIO(uploaded['F_est.csv'])).to_numpy()[:,1:]\n",
        "\n",
        "n_subjects = 11\n",
        "n_blocks = 7\n",
        "n_trials = 200\n",
        "Dict = {}\n",
        "\n",
        "for subject in range(n_subjects):\n",
        "  F_true_day1 = F_true[subject * n_blocks: (subject + 1)* n_blocks,:n_trials].flatten()\n",
        "  F_true_day2 = F_true[subject * n_blocks: (subject + 1)* n_blocks,n_trials:2*n_trials].flatten()\n",
        "  F_true_day3 = F_true[subject * n_blocks: (subject + 1)* n_blocks,2*n_trials:3*n_trials].flatten()\n",
        "\n",
        "  F_est_day1 = F_est[subject * n_blocks: (subject + 1)* n_blocks,:n_trials].flatten()\n",
        "  F_est_day2 = F_est[subject * n_blocks: (subject + 1)* n_blocks,n_trials:2*n_trials].flatten()\n",
        "  F_est_day3 = F_est[subject * n_blocks: (subject + 1)* n_blocks,2*n_trials:3*n_trials].flatten()\n",
        "\n",
        "  F_true_reshaped = np.vstack((F_true_day1, F_true_day2, F_true_day3))\n",
        "  F_est_reshaped = np.vstack((F_est_day1, F_est_day2, F_est_day3))\n",
        "  Dict['Sujet ' + str(subject + 1)] = {'F_true':F_true_reshaped, 'F_est':F_est_reshaped}\n",
        "\n"
      ],
      "execution_count": 10,
      "outputs": []
    },
    {
      "cell_type": "markdown",
      "metadata": {
        "id": "c6VCp166nJFc"
      },
      "source": [
        "You have now access to the dictionary **Dict**.\n",
        "\n",
        "\n",
        "*Click [here](https://docs.python.org/3/tutorial/datastructures.html) for more context about dictionary (See section 5.5)*."
      ]
    },
    {
      "cell_type": "markdown",
      "metadata": {
        "id": "TdKgD7bCUGmm"
      },
      "source": [
        "#Section 2: Your results"
      ]
    },
    {
      "cell_type": "code",
      "metadata": {
        "id": "cA7Wz2DIUDqe"
      },
      "source": [
        "#Your contribution starts here :)\n"
      ],
      "execution_count": null,
      "outputs": []
    }
  ]
}