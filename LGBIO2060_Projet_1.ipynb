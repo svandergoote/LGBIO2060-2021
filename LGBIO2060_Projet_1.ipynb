{
  "nbformat": 4,
  "nbformat_minor": 0,
  "metadata": {
    "colab": {
      "name": "LGBIO2060_Projet_1.ipynb",
      "provenance": [],
      "authorship_tag": "ABX9TyPsWTCpDbNYeYd/yHEr+aIX"
    },
    "kernelspec": {
      "name": "python3",
      "display_name": "Python 3"
    },
    "language_info": {
      "name": "python"
    }
  },
  "cells": [
    {
      "cell_type": "markdown",
      "metadata": {
        "id": "6sKp_06mJci2"
      },
      "source": [
        "#Projet 1 : Bayesian integration in force estimation\n",
        "Authors : Simon Vandergooten and Clemence Vandamme.\n",
        "\n",
        "In this first project you will have the opportunity to put in practice what you learned during the exercice sessions.\n",
        "\n",
        "Reminder:\n",
        "\n",
        "$$Bayes : Posterior \\propto prior * likelihood$$\n",
        "\n",
        "Guidelines : \n",
        "\n",
        "1) Read the paper \"*Bayesian integration in force estimation*\" by Körding, available on [Moodle](https://github.com/fblondiaux/LGBIO2060-2020/blob/master/WorkFromHomeText/TP1-Part1.txt)\n",
        "\n",
        "2) We simulated the data `F_true` and `F_estimated` for you. As in the paper `F_true` is drawn from two gaussian distributions that differ in their variance. Out of the 11 subjects, the first six experienced the wide distribution for the first two days and then the narrow distribution during day 3. It is the opposite for the last 5 subjects.\n",
        "\n",
        "In contrast to the paper, `F_estimated` is not computed from the positional error but is artifically simulated.\n",
        "\n",
        "3) Try to reproduce the figures 2. B,C and D (the first one about the slope)\n",
        "\n",
        "\n"
      ]
    },
    {
      "cell_type": "code",
      "metadata": {
        "id": "77MYO80PNPpd"
      },
      "source": [
        "#import libraries\n",
        "import numpy as np\n",
        "import pandas as pd "
      ],
      "execution_count": 8,
      "outputs": []
    },
    {
      "cell_type": "code",
      "metadata": {
        "id": "__PC54Lwi4FF"
      },
      "source": [
        "#Some tests to check if the data are nice\n"
      ],
      "execution_count": null,
      "outputs": []
    }
  ]
}