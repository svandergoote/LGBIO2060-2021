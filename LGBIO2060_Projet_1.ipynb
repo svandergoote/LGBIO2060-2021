{
  "nbformat": 4,
  "nbformat_minor": 0,
  "metadata": {
    "colab": {
      "name": "LGBIO2060_Projet_1.ipynb",
      "provenance": [],
      "authorship_tag": "ABX9TyOR+tGMVCWjgBg/CXEJKDrI"
    },
    "kernelspec": {
      "name": "python3",
      "display_name": "Python 3"
    },
    "language_info": {
      "name": "python"
    }
  },
  "cells": [
    {
      "cell_type": "markdown",
      "metadata": {
        "id": "6sKp_06mJci2"
      },
      "source": [
        "#Projet 1 : Bayesian integration in force estimation\n",
        "Authors : Simon Vandergooten and Clémence Vandamme.\n",
        "\n",
        "In this first project you will have the opportunity to put in practice what you learned during the exercice sessions. More precisely,  you will see how the bayesian model can be used in the specific case of force estimation.\n",
        "\n",
        "Reminder:\n",
        "\n",
        "$$Bayes : Posterior \\propto prior * likelihood$$\n",
        "\n",
        "Guidelines : \n",
        "\n",
        "1) Read the paper \"*Bayesian integration in force estimation*\" by Körding, available on Moodle in the section Project.\n",
        "\n",
        "2) Download the datasets **F_true** and **F_est** avalaible on Moodle and store them in the folder of your choice.\n",
        "\n",
        "About the data: \n",
        "* We simulated the data `F_true` and `F_estimated` for you. As in the paper `F_true` is drawn from two gaussian distributions that differ in their variance. Out of the 11 subjects, the first six experienced the wide distribution for the first two days and then the narrow distribution during day 3. It is the opposite for the last 5 subjects.\n",
        "\n",
        "* In contrast to the paper, `F_estimated` is not computed from the positional error but is artifically simulated.\n",
        "\n",
        "* The data are stored in the following way :\n",
        "\n",
        "\n",
        "3) Run the cells of **Section 1** to import the datasets in Colab.\n",
        "\n",
        "4) Try to reproduce the figures 2. B,C and D (the first one about the slope)\n",
        "\n",
        "\n"
      ]
    },
    {
      "cell_type": "markdown",
      "metadata": {
        "id": "YBJQZ06smKbI"
      },
      "source": [
        "#Section 1: Import datasets \n"
      ]
    },
    {
      "cell_type": "code",
      "metadata": {
        "id": "77MYO80PNPpd"
      },
      "source": [
        "#import libraries\n",
        "import numpy as np\n",
        "import pandas as pd \n",
        "import io"
      ],
      "execution_count": null,
      "outputs": []
    },
    {
      "cell_type": "code",
      "metadata": {
        "id": "rGFp8hclkEfM",
        "cellView": "form"
      },
      "source": [
        "# @title Run then select the files F_true.csv and F_est.csv on your computer\n",
        "from google.colab import files\n",
        "uploaded = files.upload()"
      ],
      "execution_count": null,
      "outputs": []
    },
    {
      "cell_type": "code",
      "metadata": {
        "id": "fRAzGeJyjNDF"
      },
      "source": [
        "# @title Run to access and store the datasets\n",
        "F_true = pd.read_csv(io.BytesIO(uploaded['F_true.csv'])).to_numpy()[:,1:]\n",
        "F_est = pd.read_csv(io.BytesIO(uploaded['F_est.csv'])).to_numpy()[:,1:]"
      ],
      "execution_count": null,
      "outputs": []
    },
    {
      "cell_type": "markdown",
      "metadata": {
        "id": "c6VCp166nJFc"
      },
      "source": [
        "$F_{true}$ and $F_{estimated}$ are now stored as numpy Arrays in the variables `F_true` and `F_est`.\n",
        "\n",
        "\n",
        "*Click [here](https://numpy.org/doc/stable/reference/index.html) for more context about Numpy*."
      ]
    },
    {
      "cell_type": "markdown",
      "metadata": {
        "id": "TdKgD7bCUGmm"
      },
      "source": [
        "#Section 2: Your results"
      ]
    },
    {
      "cell_type": "code",
      "metadata": {
        "id": "cA7Wz2DIUDqe"
      },
      "source": [
        "#Your contribution starts here :)\n"
      ],
      "execution_count": null,
      "outputs": []
    }
  ]
}