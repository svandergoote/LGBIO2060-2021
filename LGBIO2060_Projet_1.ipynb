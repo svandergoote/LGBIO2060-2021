{
  "nbformat": 4,
  "nbformat_minor": 0,
  "metadata": {
    "colab": {
      "name": "LGBIO2060_Projet_1.ipynb",
      "provenance": [],
      "authorship_tag": "ABX9TyMpcoYzt4fwR8TGKEB6MIqy",
      "include_colab_link": true
    },
    "kernelspec": {
      "name": "python3",
      "display_name": "Python 3"
    },
    "language_info": {
      "name": "python"
    }
  },
  "cells": [
    {
      "cell_type": "markdown",
      "metadata": {
        "id": "view-in-github",
        "colab_type": "text"
      },
      "source": [
        "<a href=\"https://colab.research.google.com/github/svandergoote/LGBIO2060-2021/blob/Projet-1/LGBIO2060_Projet_1.ipynb\" target=\"_parent\"><img src=\"https://colab.research.google.com/assets/colab-badge.svg\" alt=\"Open In Colab\"/></a>"
      ]
    },
    {
      "cell_type": "markdown",
      "metadata": {
        "id": "6sKp_06mJci2"
      },
      "source": [
        "#Projet 1 : Bayesian integration in force estimation\n",
        "Authors : Simon Vandergooten and Clemence Vandamme.\n",
        "\n",
        "In this first project you will have the opportunity to put in practice what you learned during the exercice sessions.\n",
        "\n",
        "Reminder:\n",
        "\n",
        "$$Bayes : Posterior = prior * likelihood$$\n",
        "\n",
        "Guidelines : \n",
        "\n",
        "1) Read the paper \"*Bayesian integration in force estimation*\" by Körding, available on [Moodle](https://github.com/fblondiaux/LGBIO2060-2020/blob/master/WorkFromHomeText/TP1-Part1.txt)\n",
        "\n",
        "2) Use the simulated data provided to reproduce the results of the paper.\n",
        "\n",
        "3)\n",
        "\n",
        "La pente du graphe D, c'est delta_F = pente * F_true + bruit \n",
        "--> F_est = F_true - deltaF \n"
      ]
    },
    {
      "cell_type": "code",
      "metadata": {
        "colab": {
          "base_uri": "https://localhost:8080/"
        },
        "id": "77MYO80PNPpd",
        "outputId": "4e807a9b-fb56-45d3-8c41-7f245b11eb1c"
      },
      "source": [
        "# @title Run to generate the data\n",
        "#import libraries\n",
        "import numpy as np\n",
        "\n",
        "#Generate data\n",
        "#set parameters\n",
        "mu = 2 \n",
        "sigma_narrow = 0.5 \n",
        "sigma_wide = 1\n",
        "\n",
        "slope_day1_wide = 0.55\n",
        "slope_day2_wide = 0.4\n",
        "slope_day3_wide = 0.5\n",
        "\n",
        "slope_day1_narrow = 0.7\n",
        "slope_day2_narrow = 0.65\n",
        "slope_day3_narrow = 0.4\n",
        "\n",
        "np.random.seed(32)\n",
        "n_trials = 200\n",
        "n_blocks = 7\n",
        "n_subjects = 11\n",
        "F_true = [] #F_true[subject][day][block][trial]\n",
        "\n",
        "# 6 subjects experienced the wide distribution first and 5 the narrow distribution \n",
        "for subject in range(n_subjects):\n",
        "  day_1 = np.zeros((n_blocks, n_trials))\n",
        "  day_2 = np.zeros((n_blocks, n_trials))\n",
        "  day_3 = np.zeros((n_blocks, n_trials))\n",
        "  \n",
        "  for block in range(n_blocks):\n",
        "    for trial in range(n_trials):\n",
        "      #We draw F_true randomly from the appropriate Gaussian distribution\n",
        "      if (subject < 6):#Subject with wide distribution first\n",
        "        day_1[block, trial] = np.random.normal(mu, sigma_wide, 1)\n",
        "        day_2[block, trial] = np.random.normal(mu, sigma_wide, 1)\n",
        "        day_3[block, trial] = np.random.normal(mu, sigma_narrow, 1)\n",
        "      else:#Subject with narrow distribution first\n",
        "        day_1[block, trial] = np.random.normal(mu, sigma_narrow, 1)\n",
        "        day_2[block, trial] = np.random.normal(mu, sigma_narrow, 1)\n",
        "        day_3[block, trial] = np.random.normal(mu, sigma_wide, 1)\n",
        "\n",
        "  F_true.append([day_1, day_2, day_3])\n",
        "  \n",
        "\n"
      ],
      "execution_count": 41,
      "outputs": [
        {
          "output_type": "stream",
          "name": "stdout",
          "text": [
            "[ 2.92830841  2.35846793  2.52868954  3.3567251   2.21358589  4.28290317\n",
            "  1.81317838  1.96701042  1.48549181  2.43207015  2.03286663  0.81954239\n",
            "  0.80627514  1.78225676  2.0016145   3.62025661  2.99257895  0.63125241\n",
            "  1.34933246  2.43236436  2.60003648  1.64566689  1.68830386  1.579344\n",
            "  2.30779218  1.32956548  1.50767449  1.21767853  1.99811078  1.61636876\n",
            "  2.13209418  2.70727367  1.50561086  1.44840723  2.29152341  2.27990233\n",
            "  0.5517702   2.30750465  2.2994973   2.87727543  2.30228604  2.22358362\n",
            "  0.670039    1.27397447  1.71617107  0.30527696  2.86772244  0.71230391\n",
            "  1.40148284  3.08637264  1.10194714  2.96131991  1.54551068  1.93013648\n",
            "  1.8394094   0.63439011  2.52587198  1.44885468  2.22594606 -1.12004008\n",
            "  3.45541367  1.78047826  2.28048067  3.13620754  2.16389168  3.42731913\n",
            "  0.91761612  2.32056591  1.76960339  1.54430272  3.11895147  0.94385438\n",
            "  2.00671019  4.73327895  0.34313296  1.60470943  2.97585939  2.28545684\n",
            "  3.69223233  1.7101502   3.10857848  0.83696341  3.54830444  1.97292697\n",
            "  0.99248036  2.40758549  1.4644371   2.78828997  1.50140261  0.84037422\n",
            "  3.18840296 -0.1601415   1.8159677   1.5078305   1.78993993  0.93539436\n",
            "  3.00140505  2.19783219  2.37726201  1.56091549  1.70744913  0.21646188\n",
            "  2.31338698  2.49272189  2.14724967  2.4799563   2.41709386  1.67936004\n",
            "  2.24096472  1.40055713  0.82261378  1.75211152  1.31847555  2.25248248\n",
            "  1.75143143  1.76460075  1.67622116  1.49665536  1.61799829  0.75276246\n",
            "  2.25351514  2.46719709  3.46365362  2.95366705  1.47667563  2.41567826\n",
            "  2.26888861  1.56932511  2.50918929  0.18763973  1.84642137  3.05950678\n",
            "  1.57558777  2.80917746  2.16560618  3.966927    0.96647207  2.11442026\n",
            "  4.46322318  1.93822624  2.238255    3.2018535   1.43924328  1.60220739\n",
            "  0.77938988  1.34026804  0.70860026  1.69460224  2.87893581  0.56617829\n",
            "  1.45808452  3.53072795  1.2649917   2.6550915   0.474172    2.43749846\n",
            "  2.52822759  0.62865406  1.48185441  2.98542311  2.73929285  2.89217897\n",
            "  0.87748002  0.71582261  3.13353858  2.49828684  0.89905174  3.27324824\n",
            "  3.17989116  1.42293272  4.4914602   1.45646407  0.42471636  3.07725171\n",
            "  2.61931496  2.25330541  0.59273019 -0.44834871  2.43463864  4.37672519\n",
            "  0.93621018  2.16005397  1.46791106 -0.92993689  1.34874095  0.98700452\n",
            "  1.95906293  0.58079154  4.17536614  0.88608779  1.84197434  2.38575042\n",
            "  1.06514204  1.31306731  3.89113508  2.82664154  2.02180425  1.60068018\n",
            "  2.59670848  2.30284285]\n"
          ]
        }
      ]
    },
    {
      "cell_type": "code",
      "metadata": {
        "id": "__PC54Lwi4FF"
      },
      "source": [
        ""
      ],
      "execution_count": null,
      "outputs": []
    }
  ]
}