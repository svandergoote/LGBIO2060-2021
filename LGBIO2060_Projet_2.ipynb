{
  "nbformat": 4,
  "nbformat_minor": 0,
  "metadata": {
    "colab": {
      "name": "LGBIO2060_Projet_2.ipynb",
      "provenance": [],
      "collapsed_sections": [],
      "authorship_tag": "ABX9TyNNgHqmVYQQhADBIi8nlq3w",
      "include_colab_link": true
    },
    "kernelspec": {
      "name": "python3",
      "display_name": "Python 3"
    },
    "language_info": {
      "name": "python"
    }
  },
  "cells": [
    {
      "cell_type": "markdown",
      "metadata": {
        "id": "view-in-github",
        "colab_type": "text"
      },
      "source": [
        "<a href=\"https://colab.research.google.com/github/svandergoote/LGBIO2060-2021/blob/Projet-2/LGBIO2060_Projet_2.ipynb\" target=\"_parent\"><img src=\"https://colab.research.google.com/assets/colab-badge.svg\" alt=\"Open In Colab\"/></a>"
      ]
    },
    {
      "cell_type": "markdown",
      "metadata": {
        "id": "JXBXI9lR_bN6"
      },
      "source": [
        "#Project 2 : Hidden Markov models and optimal control\n",
        "Authors : Simon Vandergooten and Clémence Vandamme.\n",
        "\n",
        "In this second project, you will implement a HMM model with 3 states and then perform optimal control. \\\\\n",
        "##Context :\n",
        "The belgian government is trying to develop a new strategy to differentiate between patients with flu and those with covid in order to relieve doctors of their work. \\\\\n",
        "Patients can be in one of the three following states : healthy, covid or flu. The patient's health status is represented by the vector $S$, where each value $s_t$ represents the patient's status in day $t$. The government also provides you with transition probabilities between each state that they have estimated based on data from the national public health department *Sciensano*. \\\\\n",
        "The measurements they give you are the blood oxygen levels measured each day for a patient. We will hypothesize that patients with covid or flu status have a lower rate than someone in good health.\n",
        "\n",
        "##In practice:\n",
        "### HMM\n",
        "More precisely, the hidden states $s_t$ are stored in a list $S$ and take one of the following string value:\n",
        "\n",
        "* $s_t$ = 'healthy' if the patient's state is healthy for day $t$ \n",
        "* $s_t$ = 'covid' if the patient's state is covid for day $t$ \n",
        "* $s_t$ = 'flu' if the patient's state is flu for day $t$ \n",
        "\n",
        "**The initial state is healthy**.\n",
        "The associated transition probabilities are the following:\n",
        "\n",
        "<img alt='Solution hint' align='left' width=413 height=300 src=https://raw.githubusercontent.com/svandergoote/LGBIO2060-2021/master/Solutions/Projet2.png>\n",
        "\n",
        "\n"
      ]
    },
    {
      "cell_type": "markdown",
      "metadata": {
        "id": "897nu5sKSy7b"
      },
      "source": [
        "We provide you the measurement vector M. It contains 150 values. \\\\\n",
        "We also provide you the true states $s_t$ for the 100 first values **but it should not be used to create the HMM model**. You can only use for the optimal control part.\n",
        "\n",
        "### Optimal control"
      ]
    },
    {
      "cell_type": "markdown",
      "metadata": {
        "id": "qEcOGQcWHrpG"
      },
      "source": [
        "##Guidelines:\n",
        "1) Create the HMM model based on the provided transition probabilities. Compute the posterior probabilities associated to each state based on the measurements.\n",
        "\n",
        "2) Represent in Figures the evolution of the posteriors as well as the inferred states. Justify your choice for the inferred states."
      ]
    },
    {
      "cell_type": "code",
      "metadata": {
        "id": "CX9HkUVS_YJT"
      },
      "source": [
        "#Your contribution starts here"
      ],
      "execution_count": null,
      "outputs": []
    }
  ]
}