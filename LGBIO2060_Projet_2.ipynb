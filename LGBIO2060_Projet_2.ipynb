{
  "nbformat": 4,
  "nbformat_minor": 0,
  "metadata": {
    "colab": {
      "name": "LGBIO2060_Projet_2.ipynb",
      "provenance": [],
      "collapsed_sections": [],
      "authorship_tag": "ABX9TyNuq8XeLDnQYtip3JS1E7QZ",
      "include_colab_link": true
    },
    "kernelspec": {
      "name": "python3",
      "display_name": "Python 3"
    },
    "language_info": {
      "name": "python"
    }
  },
  "cells": [
    {
      "cell_type": "markdown",
      "metadata": {
        "id": "view-in-github",
        "colab_type": "text"
      },
      "source": [
        "<a href=\"https://colab.research.google.com/github/svandergoote/LGBIO2060-2021/blob/Projet-2/LGBIO2060_Projet_2.ipynb\" target=\"_parent\"><img src=\"https://colab.research.google.com/assets/colab-badge.svg\" alt=\"Open In Colab\"/></a>"
      ]
    },
    {
      "cell_type": "markdown",
      "metadata": {
        "id": "JXBXI9lR_bN6"
      },
      "source": [
        "#Project 2 : Hidden Markov models and optimal control\n",
        "Authors : Simon Vandergooten and Clémence Vandamme.\n",
        "\n",
        "In this second project, you will implement a HMM model with 3 states and then perform optimal control. \\\\\n",
        "##Context :\n",
        "The belgian government is trying to develop a new strategy to differentiate between patients with flu and those with covid in order to relieve doctors of their work. Patients can be in one of the three following states : healthy, covid or flu. The patient's health status is represented by the vector $S$, where each value $s_t$ represents the patient's status in day $t$. The government also provides you with transition probabilities between each state that they have estimated based on data from the national public health department *Sciensano*.\n",
        "\n",
        "\n",
        "More precisely, the states are the following: **Healthy**, **Covid** and **Flu**. \n",
        "\n",
        "With the associated transition probabilities:\n",
        "\n",
        "<img alt='Solution hint' align='left' width=413 height=300 src=https://raw.githubusercontent.com/svandergoote/LGBIO2060-2021/master/Solutions/Projet2.png>\n",
        "\n",
        "\n"
      ]
    },
    {
      "cell_type": "markdown",
      "metadata": {
        "id": "qEcOGQcWHrpG"
      },
      "source": [
        "##Guidelines:\n",
        "1) Create the HMM model based on the provided transition probabilities."
      ]
    },
    {
      "cell_type": "code",
      "metadata": {
        "id": "CX9HkUVS_YJT"
      },
      "source": [
        ""
      ],
      "execution_count": null,
      "outputs": []
    }
  ]
}