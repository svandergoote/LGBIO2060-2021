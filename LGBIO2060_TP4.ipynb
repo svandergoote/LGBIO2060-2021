{
  "nbformat": 4,
  "nbformat_minor": 0,
  "metadata": {
    "colab": {
      "name": "LGBIO2060_TP4.ipynb",
      "provenance": [],
      "collapsed_sections": [],
      "authorship_tag": "ABX9TyMoM1sn6eWmapjULwvxOVfQ",
      "include_colab_link": true
    },
    "kernelspec": {
      "name": "python3",
      "display_name": "Python 3"
    },
    "language_info": {
      "name": "python"
    }
  },
  "cells": [
    {
      "cell_type": "markdown",
      "metadata": {
        "id": "view-in-github",
        "colab_type": "text"
      },
      "source": [
        "<a href=\"https://colab.research.google.com/github/svandergoote/LGBIO2060-2021/blob/TP4/LGBIO2060_TP4.ipynb\" target=\"_parent\"><img src=\"https://colab.research.google.com/assets/colab-badge.svg\" alt=\"Open In Colab\"/></a>"
      ]
    },
    {
      "cell_type": "markdown",
      "metadata": {
        "id": "6Q9FHZbAXUjK"
      },
      "source": [
        "# LGBIO2060 Exercice session 4\n",
        "\n",
        "#Hidden markov model\n",
        "\n",
        "__Authors:__ Simon Vandergooten, Clémence Vandamme\n",
        "\n",
        "__Content inspired from__: Neuromatch Academy github.com/NeuromatchAcademy\n"
      ]
    },
    {
      "cell_type": "markdown",
      "metadata": {
        "id": "-A4jkLCkXr0B"
      },
      "source": [
        "##Introduction and context\n",
        "In this tutorial we will make the previous models a little more complex. Until now, we have used binary or continuous variables whose state was fixed in time. It is easy to see that this greatly limits our ability to represent real systems. One way to get closer to reality would be to allow our hidden states to change their values. \n",
        "\n",
        "Let's take the example of the fish. Previously they were either on the right or on the left. But now, we will add to the model the fact that fishes can switch side. \n",
        "\n",
        "It is exactly what **Hidden markov models** permits. The Markov property specifies that you can fully encapsulate the important properties of a system based on its current state at the current time, any previous history does not matter. It is memoryless. Back to the fishes, it means that the school of fish is only at one position at a time and the probability of them being on the left or on the right at time *t* depends only on the state at time *t-1* and the probabilities of transition from one state to another. It can be represented with a matrix called the **transition matrix**.\n",
        "\n",
        "<img alt='Solution hint' align='left' width=650 height=300 src=https://raw.githubusercontent.com/svandergoote/LGBIO2060-2021/master/Solutions/HMM.png>\n"
      ]
    },
    {
      "cell_type": "markdown",
      "metadata": {
        "id": "neP8J8DKm2k6"
      },
      "source": [
        "We can use linear algebra to express the probabilities of the current state.\n",
        "\n",
        "$$P_i = [P(state_i = right), P(state_i = left) ] $$\n",
        "\n",
        "To compute the vector of probabilities of the state at the time i+1, we can use linear algebra and multiply our vector of the probabilities of the current state with the transition matrix.\n",
        "\n",
        "$$P_{i+1} = P_{i} T$$\n",
        "where $T$ is our transition matrix.\n",
        "\n",
        "This is the same formula for every step, which allows us to get the probabilities for a time more than 1 step in advance easily. If we started at $i=0$ and wanted to look at the probabilities at step $i=2$, we could do:\n",
        "\n",
        "\\begin{align*}\n",
        "P_{1} &= P_{0}T\\\\\n",
        "P_{2} &= P_{1}T = P_{0}TT = P_{0}T^2\\\\\n",
        "\\end{align*}\n",
        "\n",
        "So, every time we take a further step we can just multiply with the transition matrix again. So, the probability vector of states at j timepoints after the current state at timepoint i is equal to the probability vector at timepoint i times the transition matrix raised to the jth power.\n",
        "$$P_{i + j} = P_{i}T^j $$"
      ]
    },
    {
      "cell_type": "code",
      "metadata": {
        "id": "QC2tO6qgXQXr"
      },
      "source": [
        ""
      ],
      "execution_count": null,
      "outputs": []
    }
  ]
}